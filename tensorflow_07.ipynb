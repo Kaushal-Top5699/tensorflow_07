{
  "nbformat": 4,
  "nbformat_minor": 0,
  "metadata": {
    "colab": {
      "provenance": [],
      "authorship_tag": "ABX9TyNv4alAkmgjRgpxj3redVB0",
      "include_colab_link": true
    },
    "kernelspec": {
      "name": "python3",
      "display_name": "Python 3"
    },
    "language_info": {
      "name": "python"
    }
  },
  "cells": [
    {
      "cell_type": "markdown",
      "metadata": {
        "id": "view-in-github",
        "colab_type": "text"
      },
      "source": [
        "<a href=\"https://colab.research.google.com/github/Kaushal-Top5699/tensorflow_07/blob/main/tensorflow_07.ipynb\" target=\"_parent\"><img src=\"https://colab.research.google.com/assets/colab-badge.svg\" alt=\"Open In Colab\"/></a>"
      ]
    },
    {
      "cell_type": "code",
      "execution_count": 1,
      "metadata": {
        "id": "hVAxUVDGy9Zn"
      },
      "outputs": [],
      "source": [
        "import tensorflow as tf"
      ]
    },
    {
      "cell_type": "markdown",
      "source": [
        "# **One-Hot Encoding**\n",
        "Somthing that looks like an identity matrix."
      ],
      "metadata": {
        "id": "qth7JjaYzLKa"
      }
    },
    {
      "cell_type": "code",
      "source": [
        "# Creating a simple list.\n",
        "sample = [0, 1, 2, 3]\n",
        "# Red, Green, Blue, Orange"
      ],
      "metadata": {
        "id": "30iw8B3YzR7F"
      },
      "execution_count": 2,
      "outputs": []
    },
    {
      "cell_type": "code",
      "source": [
        "# One hot encoding. Note that depth argument is very important, because that defines the size of the resulting matrix or tensor, the identity matrix which we get at the end.\n",
        "print(f'One-Hot Encoding \\n {tf.one_hot(sample, depth=4)}')\n",
        "# The value of depth will depend on the number of elements in the list."
      ],
      "metadata": {
        "colab": {
          "base_uri": "https://localhost:8080/"
        },
        "id": "76cmsZV50GAo",
        "outputId": "c2beb496-a081-4fc9-dab6-018bdd43db83"
      },
      "execution_count": 12,
      "outputs": [
        {
          "output_type": "stream",
          "name": "stdout",
          "text": [
            "One-Hot Encoding \n",
            " [[1. 0. 0. 0.]\n",
            " [0. 1. 0. 0.]\n",
            " [0. 0. 1. 0.]\n",
            " [0. 0. 0. 1.]]\n"
          ]
        }
      ]
    },
    {
      "cell_type": "code",
      "source": [
        "# What if we change the depth argument\n",
        "tf.one_hot(sample, depth=5), tf.one_hot(sample, depth=3)"
      ],
      "metadata": {
        "colab": {
          "base_uri": "https://localhost:8080/"
        },
        "id": "q2aFC8rE11F0",
        "outputId": "be85f688-9531-44f7-e626-e535cca3376c"
      },
      "execution_count": 14,
      "outputs": [
        {
          "output_type": "execute_result",
          "data": {
            "text/plain": [
              "(<tf.Tensor: shape=(4, 5), dtype=float32, numpy=\n",
              " array([[1., 0., 0., 0., 0.],\n",
              "        [0., 1., 0., 0., 0.],\n",
              "        [0., 0., 1., 0., 0.],\n",
              "        [0., 0., 0., 1., 0.]], dtype=float32)>,\n",
              " <tf.Tensor: shape=(4, 3), dtype=float32, numpy=\n",
              " array([[1., 0., 0.],\n",
              "        [0., 1., 0.],\n",
              "        [0., 0., 1.],\n",
              "        [0., 0., 0.]], dtype=float32)>)"
            ]
          },
          "metadata": {},
          "execution_count": 14
        }
      ]
    },
    {
      "cell_type": "code",
      "source": [
        "# Adding custome values to one-hot encoding.\n",
        "tf.one_hot(sample, depth=4, on_value='K', off_value='T')"
      ],
      "metadata": {
        "colab": {
          "base_uri": "https://localhost:8080/"
        },
        "id": "3uwQcr360k8j",
        "outputId": "48c1d501-552e-4d56-8372-202d83b09dd7"
      },
      "execution_count": 10,
      "outputs": [
        {
          "output_type": "execute_result",
          "data": {
            "text/plain": [
              "<tf.Tensor: shape=(4, 4), dtype=string, numpy=\n",
              "array([[b'K', b'T', b'T', b'T'],\n",
              "       [b'T', b'K', b'T', b'T'],\n",
              "       [b'T', b'T', b'K', b'T'],\n",
              "       [b'T', b'T', b'T', b'K']], dtype=object)>"
            ]
          },
          "metadata": {},
          "execution_count": 10
        }
      ]
    }
  ]
}